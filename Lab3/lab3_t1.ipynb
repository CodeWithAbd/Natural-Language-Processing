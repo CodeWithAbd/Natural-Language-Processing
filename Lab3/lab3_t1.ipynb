{
 "cells": [
  {
   "cell_type": "code",
   "execution_count": 3,
   "metadata": {},
   "outputs": [
    {
     "name": "stdout",
     "output_type": "stream",
     "text": [
      "Number of words in the corpus: 3400618\n"
     ]
    }
   ],
   "source": [
    "\n",
    "with open('corpus.txt', 'r') as file:\n",
    "    words = file.read().split()\n",
    "    print(\"Number of words in the corpus:\", len(words))\n"
   ]
  },
  {
   "cell_type": "code",
   "execution_count": 4,
   "metadata": {},
   "outputs": [
    {
     "name": "stdout",
     "output_type": "stream",
     "text": [
      "Number of unique words in the corpus: 131235\n"
     ]
    }
   ],
   "source": [
    "with open('corpus.txt', 'r') as file:\n",
    "    words = file.read().split()\n",
    "    unique_words = set(words)\n",
    "    print(\"Number of unique words in the corpus:\", len(unique_words))\n"
   ]
  },
  {
   "cell_type": "code",
   "execution_count": null,
   "metadata": {},
   "outputs": [],
   "source": []
  }
 ],
 "metadata": {
  "kernelspec": {
   "display_name": "Python 3",
   "language": "python",
   "name": "python3"
  },
  "language_info": {
   "codemirror_mode": {
    "name": "ipython",
    "version": 3
   },
   "file_extension": ".py",
   "mimetype": "text/x-python",
   "name": "python",
   "nbconvert_exporter": "python",
   "pygments_lexer": "ipython3",
   "version": "3.10.2"
  },
  "orig_nbformat": 4,
  "vscode": {
   "interpreter": {
    "hash": "ba42cb19235590fe6767b2c605a7d357ccbcd155358f250a2577d826213ad2eb"
   }
  }
 },
 "nbformat": 4,
 "nbformat_minor": 2
}
