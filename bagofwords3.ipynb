{
 "cells": [
  {
   "cell_type": "code",
   "execution_count": 1,
   "metadata": {},
   "outputs": [
    {
     "name": "stdout",
     "output_type": "stream",
     "text": [
      "Counter({'school': 3, 'he': 3, 'john': 2, 'studies': 2, 'in': 2, 'is': 2, 'hardworking': 2, 'martin': 2, 'goes': 1, 'to': 1, 'daily': 1, 'fifth': 1, 'class': 1, 'a': 1, 'student': 1, 'loves': 1, 'the': 1, 'life': 1, 'also': 1, 'same': 1, 'but': 1, 'not': 1, 'as': 1})\n"
     ]
    }
   ],
   "source": [
    "# Bag of words without using Count-Vectorizer\n",
    "# Just a simple of Example of BOW from scratch using the counter and tokenizer only\n",
    "\n",
    "import re\n",
    "from collections import Counter\n",
    "\n",
    "paragraph = \"John goes to school daily. He studies in fifth class. He is a hardworking student. He loves the school life. Martin also studies in same school. But Martin is not hardworking as John.\"\n",
    "\n",
    "# Preprocess the paragraph by converting all characters to lowercase and removing non-alphabetic characters\n",
    "processed_paragraph = re.sub(r'\\W+', ' ', paragraph.lower())\n",
    "\n",
    "# Tokenize the paragraph by splitting it into individual words\n",
    "tokens = processed_paragraph.split()\n",
    "\n",
    "# Create a dictionary to store the bag of words representation of the paragraph\n",
    "bow = Counter(tokens)\n",
    "\n",
    "# Print the bag of words representation\n",
    "print(bow)"
   ]
  },
  {
   "cell_type": "code",
   "execution_count": null,
   "metadata": {},
   "outputs": [],
   "source": []
  }
 ],
 "metadata": {
  "kernelspec": {
   "display_name": "Python 3",
   "language": "python",
   "name": "python3"
  },
  "language_info": {
   "codemirror_mode": {
    "name": "ipython",
    "version": 3
   },
   "file_extension": ".py",
   "mimetype": "text/x-python",
   "name": "python",
   "nbconvert_exporter": "python",
   "pygments_lexer": "ipython3",
   "version": "3.11.2"
  },
  "orig_nbformat": 4
 },
 "nbformat": 4,
 "nbformat_minor": 2
}
