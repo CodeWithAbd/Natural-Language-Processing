{
 "cells": [
  {
   "cell_type": "code",
   "execution_count": 1,
   "metadata": {},
   "outputs": [
    {
     "name": "stdout",
     "output_type": "stream",
     "text": [
      "The weight/cost of difference between 'exampel' and 'hello' is 7.0\n",
      "The weight/cost of difference between 'exampel' and 'world' is 7.0\n",
      "The weight/cost of difference between 'exampel' and 'python' is 7.0\n",
      "The weight/cost of difference between 'exampel' and 'programming' is 9.0\n",
      "The weight/cost of difference between 'exampel' and 'code' is 6.0\n",
      "The weight/cost of difference between 'exampel' and 'example' is 2.0\n",
      "The nearest correct spelling for 'exampel' is 'example'\n"
     ]
    }
   ],
   "source": [
    "# Hello Students\n",
    "# In this example I used the minimum edit distance to find the nearest right spellings for the wrong english word.\n",
    "\n",
    "import numpy as np\n",
    "\n",
    "\n",
    "def min_edit_distance(word1, word2):\n",
    "    m = len(word1)\n",
    "    n = len(word2)\n",
    "    dp = np.zeros((m + 1, n + 1))\n",
    "\n",
    "    for i in range(m + 1):\n",
    "        dp[i, 0] = i\n",
    "\n",
    "    for j in range(n + 1):\n",
    "        dp[0, j] = j\n",
    "\n",
    "    for i in range(1, m + 1):\n",
    "        for j in range(1, n + 1):\n",
    "            if word1[i - 1] == word2[j - 1]:\n",
    "                dp[i, j] = dp[i - 1, j - 1]\n",
    "            else:\n",
    "                dp[i, j] = 1 + min(dp[i - 1, j], dp[i, j - 1], dp[i - 1, j - 1])\n",
    "\n",
    "    return dp[m, n]\n",
    "\n",
    "\n",
    "# List of some correct words\n",
    "words = ['hello', 'world', 'python', 'programming', 'code', 'example']\n",
    "\n",
    "# Sample Misspelled word\n",
    "misspelled_word = 'exampel'\n",
    "\n",
    "# Calculate the minimum edit distance between the misspelled word and each word in the list, and print the\n",
    "# weight/cost of difference for each word\n",
    "for word in words:\n",
    "    distance = min_edit_distance(misspelled_word, word)\n",
    "    print(f\"The weight/cost of difference between '{misspelled_word}' and '{word}' is {distance}\")\n",
    "\n",
    "# Find the index of the word with the minimum distance\n",
    "distances = [min_edit_distance(misspelled_word, word) for word in words]\n",
    "min_index = distances.index(min(distances))\n",
    "\n",
    "# Print the nearest correct spelling\n",
    "print(f\"The nearest correct spelling for '{misspelled_word}' is '{words[min_index]}'\")"
   ]
  },
  {
   "cell_type": "code",
   "execution_count": null,
   "metadata": {},
   "outputs": [],
   "source": []
  }
 ],
 "metadata": {
  "kernelspec": {
   "display_name": "Python 3",
   "language": "python",
   "name": "python3"
  },
  "language_info": {
   "codemirror_mode": {
    "name": "ipython",
    "version": 3
   },
   "file_extension": ".py",
   "mimetype": "text/x-python",
   "name": "python",
   "nbconvert_exporter": "python",
   "pygments_lexer": "ipython3",
   "version": "3.11.2"
  },
  "orig_nbformat": 4
 },
 "nbformat": 4,
 "nbformat_minor": 2
}
