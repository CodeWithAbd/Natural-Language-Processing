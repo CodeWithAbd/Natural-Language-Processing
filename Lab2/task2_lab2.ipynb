{
 "cells": [
  {
   "cell_type": "code",
   "execution_count": 1,
   "metadata": {},
   "outputs": [
    {
     "name": "stdout",
     "output_type": "stream",
     "text": [
      "03213325375\n",
      "0321332537\n",
      "032133253\n",
      "03213325\n",
      "0321332\n",
      "032133\n",
      "03213\n",
      "0321\n",
      "032\n",
      "03\n",
      "0\n"
     ]
    }
   ],
   "source": [
    "import re\n",
    "\n",
    "text = input(\"Enter a string of text: \")\n",
    "while text:\n",
    "    print(text)\n",
    "    text = re.sub(r\".$\", \"\", text)\n",
    "    input(\"Press Enter to delete the last character: \")\n"
   ]
  },
  {
   "cell_type": "code",
   "execution_count": null,
   "metadata": {},
   "outputs": [],
   "source": []
  }
 ],
 "metadata": {
  "kernelspec": {
   "display_name": "Python 3",
   "language": "python",
   "name": "python3"
  },
  "language_info": {
   "codemirror_mode": {
    "name": "ipython",
    "version": 3
   },
   "file_extension": ".py",
   "mimetype": "text/x-python",
   "name": "python",
   "nbconvert_exporter": "python",
   "pygments_lexer": "ipython3",
   "version": "3.10.2"
  },
  "orig_nbformat": 4,
  "vscode": {
   "interpreter": {
    "hash": "ba42cb19235590fe6767b2c605a7d357ccbcd155358f250a2577d826213ad2eb"
   }
  }
 },
 "nbformat": 4,
 "nbformat_minor": 2
}
