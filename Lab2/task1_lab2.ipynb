{
 "cells": [
  {
   "cell_type": "code",
   "execution_count": 4,
   "metadata": {},
   "outputs": [
    {
     "name": "stdout",
     "output_type": "stream",
     "text": [
      "Phone number '03213325375' found on line 1.\n",
      "Phone number '03168608263' found on line 2.\n",
      "Phone number '03353325375' found on line 3.\n",
      "Phone number '03022431053' found on line 4.\n",
      "Phone number '03312380624' found on line 5.\n"
     ]
    }
   ],
   "source": [
    "import re\n",
    "\n",
    "filename = 'phone_numbers.txt'\n",
    "with open(filename, 'r') as file:\n",
    "    lines = file.readlines()\n",
    "\n",
    "for i, line in enumerate(lines):\n",
    "    match = re.search(r'(\\+?\\d{1,3}[-\\.\\(\\)]*)?(\\d{3}[-\\.\\(\\)]*\\d{3}[-\\.\\(\\)]*\\d{4})', line)\n",
    "    if match:\n",
    "        number = match.group()    \n",
    "        print(f\"Phone number '{number}' found on line {i+1}.\")\n"
   ]
  },
  {
   "cell_type": "code",
   "execution_count": null,
   "metadata": {},
   "outputs": [],
   "source": []
  }
 ],
 "metadata": {
  "kernelspec": {
   "display_name": "Python 3",
   "language": "python",
   "name": "python3"
  },
  "language_info": {
   "codemirror_mode": {
    "name": "ipython",
    "version": 3
   },
   "file_extension": ".py",
   "mimetype": "text/x-python",
   "name": "python",
   "nbconvert_exporter": "python",
   "pygments_lexer": "ipython3",
   "version": "3.10.2"
  },
  "orig_nbformat": 4,
  "vscode": {
   "interpreter": {
    "hash": "ba42cb19235590fe6767b2c605a7d357ccbcd155358f250a2577d826213ad2eb"
   }
  }
 },
 "nbformat": 4,
 "nbformat_minor": 2
}
