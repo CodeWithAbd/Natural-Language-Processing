{
 "cells": [
  {
   "cell_type": "code",
   "execution_count": 1,
   "metadata": {},
   "outputs": [
    {
     "name": "stdout",
     "output_type": "stream",
     "text": [
      "Line 1: Single line comment\n",
      "Line 2: Multiline comment\n",
      "Line 3: Single line comment\n",
      "Line 4: Single line comment\n",
      "Line 5: Multiline comment\n",
      "Line 6: No comment\n",
      "Line 7: No comment\n",
      "Line 8: Single line comment\n",
      "Line 9: Multiline comment\n",
      "Line 10: Single line comment\n"
     ]
    }
   ],
   "source": [
    "with open(\"file.txt\", \"r\") as f:\n",
    "    for i, line in enumerate(f, 1):\n",
    "        if line.startswith(\"#\"):\n",
    "            print(f\"Line {i}: Single line comment\")\n",
    "        elif \"#\" in line:\n",
    "            print(f\"Line {i}: Multiline comment\")\n",
    "        else:\n",
    "            print(f\"Line {i}: No comment\")\n"
   ]
  },
  {
   "cell_type": "code",
   "execution_count": null,
   "metadata": {},
   "outputs": [],
   "source": []
  }
 ],
 "metadata": {
  "kernelspec": {
   "display_name": "Python 3",
   "language": "python",
   "name": "python3"
  },
  "language_info": {
   "codemirror_mode": {
    "name": "ipython",
    "version": 3
   },
   "file_extension": ".py",
   "mimetype": "text/x-python",
   "name": "python",
   "nbconvert_exporter": "python",
   "pygments_lexer": "ipython3",
   "version": "3.10.2"
  },
  "orig_nbformat": 4,
  "vscode": {
   "interpreter": {
    "hash": "ba42cb19235590fe6767b2c605a7d357ccbcd155358f250a2577d826213ad2eb"
   }
  }
 },
 "nbformat": 4,
 "nbformat_minor": 2
}
